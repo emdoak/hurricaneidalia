{
 "cells": [
  {
   "cell_type": "markdown",
   "id": "6953572c-dc1a-4a03-9223-ccdf8dbda515",
   "metadata": {},
   "source": [
    "# Header"
   ]
  },
  {
   "cell_type": "markdown",
   "id": "6994c2bf-d41f-4392-ad5d-f3e9a54b7f7b",
   "metadata": {},
   "source": [
    "## Section 1"
   ]
  },
  {
   "cell_type": "markdown",
   "id": "16349d77-1e59-42e3-9f60-ad6686218f3b",
   "metadata": {},
   "source": [
    "Blah blah description"
   ]
  },
  {
   "cell_type": "code",
   "execution_count": 2,
   "id": "fa6d351b-ac62-46ce-8782-26217dde7c14",
   "metadata": {},
   "outputs": [],
   "source": [
    "import matplotlib.pyplot as plt\n",
    "import pandas as pd\n",
    "from microSWIFTtelemetry import pull_telemetry_as_var"
   ]
  },
  {
   "cell_type": "code",
   "execution_count": null,
   "id": "5f53558d-ecc4-43c6-899a-a4735b9ae2f8",
   "metadata": {},
   "outputs": [],
   "source": []
  },
  {
   "cell_type": "markdown",
   "id": "3f0101c1-cdbe-4a14-befe-065b649dfccc",
   "metadata": {},
   "source": [
    "## Section 2"
   ]
  },
  {
   "cell_type": "code",
   "execution_count": null,
   "id": "b23077a8-0c7c-4696-a0c8-0fe49c0ee996",
   "metadata": {},
   "outputs": [],
   "source": []
  }
 ],
 "metadata": {
  "kernelspec": {
   "display_name": "Python 3 (ipykernel)",
   "language": "python",
   "name": "python3"
  },
  "language_info": {
   "codemirror_mode": {
    "name": "ipython",
    "version": 3
   },
   "file_extension": ".py",
   "mimetype": "text/x-python",
   "name": "python",
   "nbconvert_exporter": "python",
   "pygments_lexer": "ipython3",
   "version": "3.11.9"
  }
 },
 "nbformat": 4,
 "nbformat_minor": 5
}
